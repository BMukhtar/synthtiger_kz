{
 "cells": [
  {
   "cell_type": "code",
   "execution_count": 16,
   "metadata": {
    "collapsed": true,
    "ExecuteTime": {
     "end_time": "2023-08-27T15:50:10.053088400Z",
     "start_time": "2023-08-27T15:50:07.728430100Z"
    }
   },
   "outputs": [
    {
     "name": "stdout",
     "output_type": "stream",
     "text": [
      "Corpus generated and written to corpus.txt\n"
     ]
    }
   ],
   "source": [
    "import random\n",
    "\n",
    "# Read words from kk_dict.txt\n",
    "with open('resources/corpus/kk_dict.txt', 'r', encoding='utf-8') as f:\n",
    "    words = f.read().splitlines()\n",
    "\n",
    "# Define the symbols\n",
    "symbols = '0123456789!\"#$%&\\'()*+,-./:;<=>?@[\\\\]^_`{|}~ €$АБВГДЕЖЗИЙКЛМНОПРСТУФХЦЧШЩЪЫЬЭЮЯЁабвгдежзийклмнопрстуфхцчшщъыьэюяёӘҒҚҢӨҰҮІҺәғқңөұүіһ'\n",
    "\n",
    "# Define maximum and minimum sequence length\n",
    "max_n = 40\n",
    "min_n = 2\n",
    "\n",
    "# Initialize character counts\n",
    "char_counts = {char: 1 for char in symbols}\n",
    "\n",
    "# Filter out words that use different symbols\n",
    "words = [word for word in words if all(char in symbols for char in word)]\n",
    "\n",
    "# Define a function to get a random character with probability inversely proportional to its count\n",
    "def get_random_char():\n",
    "    min_count = min(char_counts.values())\n",
    "    candidates = [char for char, count in char_counts.items() if count == min_count]\n",
    "    return random.choice(candidates)\n",
    "\n",
    "# Generate corpus\n",
    "corpus = []\n",
    "for i in range(200_000):  # Adjust the range as needed\n",
    "    sequence = ''\n",
    "    target_length = random.randint(min_n, max_n)\n",
    "    while len(sequence) < target_length:\n",
    "        if random.random() < 0.7:  # Adjust the probability as needed\n",
    "            word = random.choice(words)\n",
    "            for char in word:\n",
    "                sequence += char\n",
    "                char_counts[char] += 1\n",
    "                if len(sequence) == target_length:\n",
    "                    break\n",
    "            if len(sequence) < target_length:\n",
    "                sequence += ' '\n",
    "                char_counts[' '] += 1\n",
    "        else:\n",
    "            symbol = get_random_char()\n",
    "            sequence += symbol\n",
    "            char_counts[symbol] += 1\n",
    "    corpus.append(sequence)\n",
    "\n",
    "# Write corpus to corpus.txt\n",
    "with open('kz_corpus_generated.txt', 'w', encoding='utf-8') as f:\n",
    "    for sequence in corpus:\n",
    "        f.write(sequence + '\\n')\n",
    "\n",
    "print('Corpus generated and written to corpus.txt')\n"
   ]
  },
  {
   "cell_type": "code",
   "execution_count": null,
   "outputs": [],
   "source": [],
   "metadata": {
    "collapsed": false
   }
  }
 ],
 "metadata": {
  "kernelspec": {
   "display_name": "Python 3",
   "language": "python",
   "name": "python3"
  },
  "language_info": {
   "codemirror_mode": {
    "name": "ipython",
    "version": 2
   },
   "file_extension": ".py",
   "mimetype": "text/x-python",
   "name": "python",
   "nbconvert_exporter": "python",
   "pygments_lexer": "ipython2",
   "version": "2.7.6"
  }
 },
 "nbformat": 4,
 "nbformat_minor": 0
}
